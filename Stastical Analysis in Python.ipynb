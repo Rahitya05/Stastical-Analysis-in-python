{
 "cells": [
  {
   "cell_type": "markdown",
   "id": "9de95e4b-ad7f-4adc-8a21-4b354076fdc5",
   "metadata": {},
   "source": [
    "## Statistical Analysis in Python with Real-World Datasets"
   ]
  },
  {
   "cell_type": "markdown",
   "id": "4d0a400f-7810-4a83-a5ac-7231681da792",
   "metadata": {},
   "source": [
    "Statistical analysis is a fundamental aspect of data science and machine learning. By understanding and applying statistical methods, you can derive meaningful insights from datasets, make predictions, and inform decision-making. In this session, we will explore the basics of statistical analysis using Python, leveraging libraries like pandas, numpy, and scipy. We will use various datasets, including the built-in Diabetes dataset from the sklearn library, and explore how to apply statistical methods to datasets from sources like Kaggle and the UCI Machine Learning Repository."
   ]
  },
  {
   "cell_type": "markdown",
   "id": "70ae4c92-3b43-4dd2-91f4-7bec9d5679ac",
   "metadata": {},
   "source": [
    "#### Required libraries\n",
    "Before we dive into coding, make sure you have Python installed along with the necessary libraries. You can install the required libraries using the following commands:"
   ]
  },
  {
   "cell_type": "code",
   "execution_count": 84,
   "id": "2f7a7f04-014a-4a1b-bfdb-7645d8b10028",
   "metadata": {},
   "outputs": [
    {
     "name": "stdout",
     "output_type": "stream",
     "text": [
      "Requirement already satisfied: numpy in c:\\users\\p.rahitya\\anaconda3\\lib\\site-packages (1.26.4)\n",
      "Note: you may need to restart the kernel to use updated packages.\n"
     ]
    }
   ],
   "source": [
    "pip install numpy"
   ]
  },
  {
   "cell_type": "code",
   "execution_count": 85,
   "id": "cb19983e-5f81-4bdb-ab8d-b5ac6d7a7581",
   "metadata": {},
   "outputs": [
    {
     "name": "stdout",
     "output_type": "stream",
     "text": [
      "Requirement already satisfied: pandas in c:\\users\\p.rahitya\\anaconda3\\lib\\site-packages (2.1.4)\n",
      "Requirement already satisfied: numpy<2,>=1.23.2 in c:\\users\\p.rahitya\\anaconda3\\lib\\site-packages (from pandas) (1.26.4)\n",
      "Requirement already satisfied: python-dateutil>=2.8.2 in c:\\users\\p.rahitya\\anaconda3\\lib\\site-packages (from pandas) (2.8.2)\n",
      "Requirement already satisfied: pytz>=2020.1 in c:\\users\\p.rahitya\\anaconda3\\lib\\site-packages (from pandas) (2023.3.post1)\n",
      "Requirement already satisfied: tzdata>=2022.1 in c:\\users\\p.rahitya\\anaconda3\\lib\\site-packages (from pandas) (2023.3)\n",
      "Requirement already satisfied: six>=1.5 in c:\\users\\p.rahitya\\anaconda3\\lib\\site-packages (from python-dateutil>=2.8.2->pandas) (1.16.0)\n",
      "Note: you may need to restart the kernel to use updated packages.\n"
     ]
    }
   ],
   "source": [
    "pip install pandas"
   ]
  },
  {
   "cell_type": "code",
   "execution_count": 86,
   "id": "cb7fc8cc-f2f6-403f-a2ff-825b7eece6bf",
   "metadata": {},
   "outputs": [
    {
     "name": "stdout",
     "output_type": "stream",
     "text": [
      "Requirement already satisfied: scikit-learn in c:\\users\\p.rahitya\\anaconda3\\lib\\site-packages (1.2.2)\n",
      "Requirement already satisfied: numpy>=1.17.3 in c:\\users\\p.rahitya\\anaconda3\\lib\\site-packages (from scikit-learn) (1.26.4)\n",
      "Requirement already satisfied: scipy>=1.3.2 in c:\\users\\p.rahitya\\anaconda3\\lib\\site-packages (from scikit-learn) (1.11.4)\n",
      "Requirement already satisfied: joblib>=1.1.1 in c:\\users\\p.rahitya\\anaconda3\\lib\\site-packages (from scikit-learn) (1.2.0)\n",
      "Requirement already satisfied: threadpoolctl>=2.0.0 in c:\\users\\p.rahitya\\anaconda3\\lib\\site-packages (from scikit-learn) (2.2.0)\n",
      "Note: you may need to restart the kernel to use updated packages.\n"
     ]
    }
   ],
   "source": [
    "pip install scikit-learn"
   ]
  },
  {
   "cell_type": "code",
   "execution_count": 87,
   "id": "92e4f6e9-7295-4655-b260-ce490368eb4f",
   "metadata": {},
   "outputs": [
    {
     "name": "stdout",
     "output_type": "stream",
     "text": [
      "Requirement already satisfied: statsmodels in c:\\users\\p.rahitya\\anaconda3\\lib\\site-packages (0.14.0)\n",
      "Requirement already satisfied: numpy>=1.18 in c:\\users\\p.rahitya\\anaconda3\\lib\\site-packages (from statsmodels) (1.26.4)\n",
      "Requirement already satisfied: scipy!=1.9.2,>=1.4 in c:\\users\\p.rahitya\\anaconda3\\lib\\site-packages (from statsmodels) (1.11.4)\n",
      "Requirement already satisfied: pandas>=1.0 in c:\\users\\p.rahitya\\anaconda3\\lib\\site-packages (from statsmodels) (2.1.4)\n",
      "Requirement already satisfied: patsy>=0.5.2 in c:\\users\\p.rahitya\\anaconda3\\lib\\site-packages (from statsmodels) (0.5.3)\n",
      "Requirement already satisfied: packaging>=21.3 in c:\\users\\p.rahitya\\anaconda3\\lib\\site-packages (from statsmodels) (23.1)\n",
      "Requirement already satisfied: python-dateutil>=2.8.2 in c:\\users\\p.rahitya\\anaconda3\\lib\\site-packages (from pandas>=1.0->statsmodels) (2.8.2)\n",
      "Requirement already satisfied: pytz>=2020.1 in c:\\users\\p.rahitya\\anaconda3\\lib\\site-packages (from pandas>=1.0->statsmodels) (2023.3.post1)\n",
      "Requirement already satisfied: tzdata>=2022.1 in c:\\users\\p.rahitya\\anaconda3\\lib\\site-packages (from pandas>=1.0->statsmodels) (2023.3)\n",
      "Requirement already satisfied: six in c:\\users\\p.rahitya\\anaconda3\\lib\\site-packages (from patsy>=0.5.2->statsmodels) (1.16.0)\n",
      "Note: you may need to restart the kernel to use updated packages.\n"
     ]
    }
   ],
   "source": [
    "pip install statsmodels"
   ]
  },
  {
   "cell_type": "markdown",
   "id": "7f8496bb-dd9f-48f8-b680-ebda05b89aaf",
   "metadata": {},
   "source": [
    "#### Applying Statistical Methods"
   ]
  },
  {
   "cell_type": "markdown",
   "id": "94b9792e-590d-437a-b3a2-bb4bab296193",
   "metadata": {},
   "source": [
    "Datasets are available in Kaggle or the UCI Machine Learning Repository."
   ]
  },
  {
   "cell_type": "markdown",
   "id": "6209334a-4f91-46f4-bec0-17640b5d5c7c",
   "metadata": {},
   "source": [
    "Let us choose a Health-related dataset like Heart Disease dataset from kaggle."
   ]
  },
  {
   "cell_type": "markdown",
   "id": "6d397539-11a2-4c43-84b9-7fa998128f76",
   "metadata": {},
   "source": [
    "let us import the dataset using Pandas as dataframe."
   ]
  },
  {
   "cell_type": "code",
   "execution_count": 88,
   "id": "cbf99843-7b48-4173-9bac-3a25e1bda5b4",
   "metadata": {},
   "outputs": [],
   "source": [
    "import pandas as pd"
   ]
  },
  {
   "cell_type": "code",
   "execution_count": 89,
   "id": "3ccb664b-8b7b-4ae8-abb0-4cbec24171f1",
   "metadata": {},
   "outputs": [],
   "source": [
    "data=pd.read_csv('heart.csv')"
   ]
  },
  {
   "cell_type": "code",
   "execution_count": 90,
   "id": "ec56f21b-290d-472d-aa3b-60ec1ffc24c8",
   "metadata": {},
   "outputs": [
    {
     "data": {
      "text/html": [
       "<div>\n",
       "<style scoped>\n",
       "    .dataframe tbody tr th:only-of-type {\n",
       "        vertical-align: middle;\n",
       "    }\n",
       "\n",
       "    .dataframe tbody tr th {\n",
       "        vertical-align: top;\n",
       "    }\n",
       "\n",
       "    .dataframe thead th {\n",
       "        text-align: right;\n",
       "    }\n",
       "</style>\n",
       "<table border=\"1\" class=\"dataframe\">\n",
       "  <thead>\n",
       "    <tr style=\"text-align: right;\">\n",
       "      <th></th>\n",
       "      <th>age</th>\n",
       "      <th>sex</th>\n",
       "      <th>cp</th>\n",
       "      <th>trestbps</th>\n",
       "      <th>chol</th>\n",
       "      <th>fbs</th>\n",
       "      <th>restecg</th>\n",
       "      <th>thalach</th>\n",
       "      <th>exang</th>\n",
       "      <th>oldpeak</th>\n",
       "      <th>slope</th>\n",
       "      <th>ca</th>\n",
       "      <th>thal</th>\n",
       "      <th>target</th>\n",
       "    </tr>\n",
       "  </thead>\n",
       "  <tbody>\n",
       "    <tr>\n",
       "      <th>0</th>\n",
       "      <td>52</td>\n",
       "      <td>1</td>\n",
       "      <td>0</td>\n",
       "      <td>125</td>\n",
       "      <td>212</td>\n",
       "      <td>0</td>\n",
       "      <td>1</td>\n",
       "      <td>168</td>\n",
       "      <td>0</td>\n",
       "      <td>1.0</td>\n",
       "      <td>2</td>\n",
       "      <td>2</td>\n",
       "      <td>3</td>\n",
       "      <td>0</td>\n",
       "    </tr>\n",
       "    <tr>\n",
       "      <th>1</th>\n",
       "      <td>53</td>\n",
       "      <td>1</td>\n",
       "      <td>0</td>\n",
       "      <td>140</td>\n",
       "      <td>203</td>\n",
       "      <td>1</td>\n",
       "      <td>0</td>\n",
       "      <td>155</td>\n",
       "      <td>1</td>\n",
       "      <td>3.1</td>\n",
       "      <td>0</td>\n",
       "      <td>0</td>\n",
       "      <td>3</td>\n",
       "      <td>0</td>\n",
       "    </tr>\n",
       "    <tr>\n",
       "      <th>2</th>\n",
       "      <td>70</td>\n",
       "      <td>1</td>\n",
       "      <td>0</td>\n",
       "      <td>145</td>\n",
       "      <td>174</td>\n",
       "      <td>0</td>\n",
       "      <td>1</td>\n",
       "      <td>125</td>\n",
       "      <td>1</td>\n",
       "      <td>2.6</td>\n",
       "      <td>0</td>\n",
       "      <td>0</td>\n",
       "      <td>3</td>\n",
       "      <td>0</td>\n",
       "    </tr>\n",
       "    <tr>\n",
       "      <th>3</th>\n",
       "      <td>61</td>\n",
       "      <td>1</td>\n",
       "      <td>0</td>\n",
       "      <td>148</td>\n",
       "      <td>203</td>\n",
       "      <td>0</td>\n",
       "      <td>1</td>\n",
       "      <td>161</td>\n",
       "      <td>0</td>\n",
       "      <td>0.0</td>\n",
       "      <td>2</td>\n",
       "      <td>1</td>\n",
       "      <td>3</td>\n",
       "      <td>0</td>\n",
       "    </tr>\n",
       "    <tr>\n",
       "      <th>4</th>\n",
       "      <td>62</td>\n",
       "      <td>0</td>\n",
       "      <td>0</td>\n",
       "      <td>138</td>\n",
       "      <td>294</td>\n",
       "      <td>1</td>\n",
       "      <td>1</td>\n",
       "      <td>106</td>\n",
       "      <td>0</td>\n",
       "      <td>1.9</td>\n",
       "      <td>1</td>\n",
       "      <td>3</td>\n",
       "      <td>2</td>\n",
       "      <td>0</td>\n",
       "    </tr>\n",
       "  </tbody>\n",
       "</table>\n",
       "</div>"
      ],
      "text/plain": [
       "   age  sex  cp  trestbps  chol  fbs  restecg  thalach  exang  oldpeak  slope  \\\n",
       "0   52    1   0       125   212    0        1      168      0      1.0      2   \n",
       "1   53    1   0       140   203    1        0      155      1      3.1      0   \n",
       "2   70    1   0       145   174    0        1      125      1      2.6      0   \n",
       "3   61    1   0       148   203    0        1      161      0      0.0      2   \n",
       "4   62    0   0       138   294    1        1      106      0      1.9      1   \n",
       "\n",
       "   ca  thal  target  \n",
       "0   2     3       0  \n",
       "1   0     3       0  \n",
       "2   0     3       0  \n",
       "3   1     3       0  \n",
       "4   3     2       0  "
      ]
     },
     "execution_count": 90,
     "metadata": {},
     "output_type": "execute_result"
    }
   ],
   "source": [
    "data.head()"
   ]
  },
  {
   "cell_type": "markdown",
   "id": "829cf4f8-0ea6-4112-8e3d-a93900e3f8f2",
   "metadata": {},
   "source": [
    "let us consider the above dataset for Stastical Snalysis using Python"
   ]
  },
  {
   "cell_type": "markdown",
   "id": "1444d69f-2d96-45c8-b714-ba69336e84b7",
   "metadata": {},
   "source": [
    "#### Descriptive Statistics"
   ]
  },
  {
   "cell_type": "markdown",
   "id": "fcd5ef93-1224-4cfa-970d-9ded6fd9aa40",
   "metadata": {},
   "source": [
    "Descriptive statistics aim to summarize and organize data to make it easily understandable. This involves describing the central tendency, dispersion, and shape of the data distribution. Descriptive statistics provide a simple summary about the sample and the measures, without making inferences about the population from which the data was drawn."
   ]
  },
  {
   "cell_type": "markdown",
   "id": "7151d642-08c4-4ade-bee5-3460dad63610",
   "metadata": {},
   "source": [
    "**1. Measures of Central Tendency:** Describe the central point in a dataset."
   ]
  },
  {
   "cell_type": "markdown",
   "id": "7ca7d0d4-a53e-4d67-afa8-b2d4cb57d810",
   "metadata": {},
   "source": [
    "**a. Mean**: The average value for a column"
   ]
  },
  {
   "cell_type": "code",
   "execution_count": 91,
   "id": "7299ed9d-fc1b-4a80-ba9e-e3851bc21fdc",
   "metadata": {},
   "outputs": [
    {
     "name": "stdout",
     "output_type": "stream",
     "text": [
      "Mean of the dataset:\n",
      " age          54.434146\n",
      "sex           0.695610\n",
      "cp            0.942439\n",
      "trestbps    131.611707\n",
      "chol        246.000000\n",
      "fbs           0.149268\n",
      "restecg       0.529756\n",
      "thalach     149.114146\n",
      "exang         0.336585\n",
      "oldpeak       1.071512\n",
      "slope         1.385366\n",
      "ca            0.754146\n",
      "thal          2.323902\n",
      "target        0.513171\n",
      "dtype: float64\n"
     ]
    }
   ],
   "source": [
    "print('Mean of the dataset:\\n',data.mean())"
   ]
  },
  {
   "cell_type": "markdown",
   "id": "52fe2fe2-aa8c-454b-98a5-e47ee845806e",
   "metadata": {},
   "source": [
    "**b. Median**: The middle value in a sorted dataset."
   ]
  },
  {
   "cell_type": "code",
   "execution_count": 92,
   "id": "bd7002cc-92c5-4863-a841-9040bfd71f02",
   "metadata": {},
   "outputs": [
    {
     "name": "stdout",
     "output_type": "stream",
     "text": [
      "Median of the dataset:\n",
      " age          56.0\n",
      "sex           1.0\n",
      "cp            1.0\n",
      "trestbps    130.0\n",
      "chol        240.0\n",
      "fbs           0.0\n",
      "restecg       1.0\n",
      "thalach     152.0\n",
      "exang         0.0\n",
      "oldpeak       0.8\n",
      "slope         1.0\n",
      "ca            0.0\n",
      "thal          2.0\n",
      "target        1.0\n",
      "dtype: float64\n"
     ]
    }
   ],
   "source": [
    "print('Median of the dataset:\\n',data.median())"
   ]
  },
  {
   "cell_type": "markdown",
   "id": "4da59c02-7786-499e-872c-f01b8144777c",
   "metadata": {},
   "source": [
    "**c. Mode**: The most frequent value in the dataset."
   ]
  },
  {
   "cell_type": "code",
   "execution_count": 93,
   "id": "cfa727b6-45c0-4973-bc38-f63940d44ef6",
   "metadata": {},
   "outputs": [
    {
     "name": "stdout",
     "output_type": "stream",
     "text": [
      "Mode of the dataset:\n",
      " age          58.0\n",
      "sex           1.0\n",
      "cp            0.0\n",
      "trestbps    120.0\n",
      "chol        204.0\n",
      "fbs           0.0\n",
      "restecg       1.0\n",
      "thalach     162.0\n",
      "exang         0.0\n",
      "oldpeak       0.0\n",
      "slope         1.0\n",
      "ca            0.0\n",
      "thal          2.0\n",
      "target        1.0\n",
      "Name: 0, dtype: float64\n"
     ]
    }
   ],
   "source": [
    "print('Mode of the dataset:\\n',data.mode().iloc[0])"
   ]
  },
  {
   "cell_type": "markdown",
   "id": "8df64f8f-a612-4777-accb-a1b09d91aed9",
   "metadata": {},
   "source": [
    "**2. Measures of Dispersion**: Describe the spread of the data."
   ]
  },
  {
   "cell_type": "markdown",
   "id": "ea548c94-e62d-4e8e-b66d-bae61279f67a",
   "metadata": {},
   "source": [
    "**a. Variance**: A measure of how spread out the values are from the mean."
   ]
  },
  {
   "cell_type": "code",
   "execution_count": 94,
   "id": "a729f470-0475-4f53-9f3d-9a1936aa1f8e",
   "metadata": {},
   "outputs": [
    {
     "name": "stdout",
     "output_type": "stream",
     "text": [
      "Variance of the dataset:\n",
      " age           82.306450\n",
      "sex            0.211944\n",
      "cp             1.060160\n",
      "trestbps     306.835410\n",
      "chol        2661.787109\n",
      "fbs            0.127111\n",
      "restecg        0.278655\n",
      "thalach      529.263325\n",
      "exang          0.223514\n",
      "oldpeak        1.380750\n",
      "slope          0.381622\n",
      "ca             1.062544\n",
      "thal           0.385219\n",
      "target         0.250071\n",
      "dtype: float64\n"
     ]
    }
   ],
   "source": [
    "print('Variance of the dataset:\\n',data.var())"
   ]
  },
  {
   "cell_type": "markdown",
   "id": "773c9cac-ee46-4ad7-8230-37918e60f909",
   "metadata": {},
   "source": [
    "**b. Standard Deviation**: The square root of the variance; gives insight into the spread of data."
   ]
  },
  {
   "cell_type": "code",
   "execution_count": 95,
   "id": "c16c3097-4444-4860-a66f-368a9760018b",
   "metadata": {},
   "outputs": [
    {
     "name": "stdout",
     "output_type": "stream",
     "text": [
      "Standard Deviation of the dataset:\n",
      " age          9.072290\n",
      "sex          0.460373\n",
      "cp           1.029641\n",
      "trestbps    17.516718\n",
      "chol        51.592510\n",
      "fbs          0.356527\n",
      "restecg      0.527878\n",
      "thalach     23.005724\n",
      "exang        0.472772\n",
      "oldpeak      1.175053\n",
      "slope        0.617755\n",
      "ca           1.030798\n",
      "thal         0.620660\n",
      "target       0.500070\n",
      "dtype: float64\n"
     ]
    }
   ],
   "source": [
    "print('Standard Deviation of the dataset:\\n',data.std())"
   ]
  },
  {
   "cell_type": "markdown",
   "id": "0b38171d-831b-43a8-85b6-869ff9ded40d",
   "metadata": {},
   "source": [
    "**c. Range**: The difference between the maximum and minimum values."
   ]
  },
  {
   "cell_type": "code",
   "execution_count": 96,
   "id": "f7af553f-4e5d-4377-8738-9576e6b58337",
   "metadata": {},
   "outputs": [
    {
     "name": "stdout",
     "output_type": "stream",
     "text": [
      "Range of the dataset:\n",
      " age          48.0\n",
      "sex           1.0\n",
      "cp            3.0\n",
      "trestbps    106.0\n",
      "chol        438.0\n",
      "fbs           1.0\n",
      "restecg       2.0\n",
      "thalach     131.0\n",
      "exang         1.0\n",
      "oldpeak       6.2\n",
      "slope         2.0\n",
      "ca            4.0\n",
      "thal          3.0\n",
      "target        1.0\n",
      "dtype: float64\n"
     ]
    }
   ],
   "source": [
    "print('Range of the dataset:\\n',data.max()-data.min())"
   ]
  },
  {
   "cell_type": "markdown",
   "id": "7e26aed7-8047-4cee-a827-7298234f8031",
   "metadata": {},
   "source": [
    "**3.Skewness:** It measures the asymmetry of the distribution of values in a dataset."
   ]
  },
  {
   "cell_type": "markdown",
   "id": "11d433db-1e9d-4b20-bc90-3429c887368f",
   "metadata": {},
   "source": [
    "If the skewness is 0, the data is perfectly symmetric (like a normal distribution).\n",
    "\n",
    "If the skewness is positive, the distribution is skewed to the right (longer tail on the right side).\n",
    "\n",
    "If the skewness is negative, the distribution is skewed to the left (longer tail on the left side)."
   ]
  },
  {
   "cell_type": "code",
   "execution_count": 97,
   "id": "6e5a6774-f2f2-42a5-aef9-5a78376e8e52",
   "metadata": {},
   "outputs": [
    {
     "name": "stdout",
     "output_type": "stream",
     "text": [
      "Skewness of the dataset:\n",
      " age        -0.248866\n",
      "sex        -0.851449\n",
      "cp          0.529455\n",
      "trestbps    0.739768\n",
      "chol        1.074073\n",
      "fbs         1.971339\n",
      "restecg     0.180440\n",
      "thalach    -0.513777\n",
      "exang       0.692655\n",
      "oldpeak     1.210899\n",
      "slope      -0.479134\n",
      "ca          1.261189\n",
      "thal       -0.524390\n",
      "target     -0.052778\n",
      "dtype: float64\n"
     ]
    }
   ],
   "source": [
    "print('Skewness of the dataset:\\n',data.skew())"
   ]
  },
  {
   "cell_type": "markdown",
   "id": "b075761b-bcaa-46c0-a801-d15bcf38e90a",
   "metadata": {},
   "source": [
    "**4. Kurtosis:** It measures the \"tailedness\" of the distribution, or how much data is concentrated in the tails compared to the normal distribution."
   ]
  },
  {
   "cell_type": "markdown",
   "id": "73be5b7b-76b0-4e51-8513-c67b3614e493",
   "metadata": {},
   "source": [
    "***Mesokurtic:*** A kurtosis of 0 (after subtracting 3) indicates that the dataset has a normal tail distribution (same as a normal distribution).\n",
    "\n",
    "***Leptokurtic:*** A kurtosis greater than 0 indicates that the dataset has heavy tails (more outliers).\n",
    "\n",
    "***Platykurtic:*** A kurtosis less than 0 indicates light tails (fewer outliers)."
   ]
  },
  {
   "cell_type": "code",
   "execution_count": 98,
   "id": "7c8d737c-b5d8-4818-a1a1-d677835af8bc",
   "metadata": {},
   "outputs": [
    {
     "name": "stdout",
     "output_type": "stream",
     "text": [
      "Kurtosis of the dataset:\n",
      " age        -0.525618\n",
      "sex        -1.277531\n",
      "cp         -1.149500\n",
      "trestbps    0.991221\n",
      "chol        3.996803\n",
      "fbs         1.889859\n",
      "restecg    -1.309614\n",
      "thalach    -0.088822\n",
      "exang      -1.523205\n",
      "oldpeak     1.314471\n",
      "slope      -0.647129\n",
      "ca          0.701123\n",
      "thal        0.250827\n",
      "target     -2.001123\n",
      "dtype: float64\n"
     ]
    }
   ],
   "source": [
    "print('Kurtosis of the dataset:\\n',data.kurt())"
   ]
  },
  {
   "cell_type": "markdown",
   "id": "c36c55b6-1084-4f92-864c-c9ca106e246c",
   "metadata": {},
   "source": [
    "#### Inferential Statistics:"
   ]
  },
  {
   "cell_type": "markdown",
   "id": "7e656753-7274-4a85-9e1f-3bb98959c7cb",
   "metadata": {},
   "source": [
    "Inferential statistics take data from a sample and make inferences or predictions about a population. The main goal of inferential statistics is to determine if the patterns observed in the sample are significant or merely due to chance."
   ]
  },
  {
   "cell_type": "markdown",
   "id": "4eb8162d-c55d-445b-84b2-e0c98dcfab53",
   "metadata": {},
   "source": [
    "***1. Population vs Sample***:"
   ]
  },
  {
   "cell_type": "markdown",
   "id": "a1d5d02f-f064-4291-82a4-02c3a31c3246",
   "metadata": {},
   "source": [
    "A population refers to the entire set of items or individuals of interest.\n",
    "\n",
    "A sample is a subset of the population used for analysis. The idea is that if the sample is representative of the population, conclusions drawn from the sample can be generalized to the population."
   ]
  },
  {
   "cell_type": "markdown",
   "id": "d649c324-d944-4236-8dc6-f1b9c78b4afd",
   "metadata": {},
   "source": [
    "***2. Estimation:***"
   ]
  },
  {
   "cell_type": "markdown",
   "id": "0693939d-17e2-4762-9316-2461f01057f1",
   "metadata": {},
   "source": [
    "Point Estimation: A single value (like a mean) is calculated from the sample and used to estimate the population parameter.\n",
    "\n",
    "Confidence Interval: A range of values derived from the sample that is likely to contain the population parameter (e.g., 95% confidence intervals).\n"
   ]
  },
  {
   "cell_type": "markdown",
   "id": "a55d534a-081a-4926-a714-6c52a927fd1a",
   "metadata": {},
   "source": [
    "**3. Hypothesis Testing:**"
   ]
  },
  {
   "cell_type": "markdown",
   "id": "5e3f9050-3d2d-4272-be1d-96c654567ae1",
   "metadata": {},
   "source": [
    "Null Hypothesis (𝐻0): The assumption that there is no significant difference or effect.\n",
    "Alternative Hypothesis (𝐻1): The assumption that there is a significant difference or effect.\n",
    "P-value: The probability of observing the data if the null hypothesis is true. A low p-value (commonly less than 0.05) suggests rejecting the null hypothesis."
   ]
  },
  {
   "cell_type": "markdown",
   "id": "4bf53551-8c84-4206-98fc-2df371f1f8a4",
   "metadata": {},
   "source": [
    "**Types of Tests:**\n",
    "\n",
    "T-test: Compares the means of two groups.\n",
    "\n",
    "Chi-square test: Tests for independence between categorical variables.\n",
    "\n",
    "ANOVA: Tests the difference between means of three or more groups."
   ]
  },
  {
   "cell_type": "markdown",
   "id": "d2cf8249-b93c-4aed-bb6f-3eb5200c727d",
   "metadata": {},
   "source": [
    "let us perforn T-test for our heart disease details dataset"
   ]
  },
  {
   "cell_type": "markdown",
   "id": "d394f323-f897-4482-8738-039c3621a905",
   "metadata": {},
   "source": [
    "#### T-test:"
   ]
  },
  {
   "cell_type": "markdown",
   "id": "8351cd15-b0fc-473b-a5bb-e8584eb30640",
   "metadata": {},
   "source": [
    "A t-test for the trestbps (resting blood pressure) column in the heart disease dataset can help determine whether the sample mean resting blood pressure is significantly different from a given population mean."
   ]
  },
  {
   "cell_type": "markdown",
   "id": "4c9819ce-4e97-4946-a8c3-de2af3dbeb65",
   "metadata": {},
   "source": [
    "let us import stats module from scipy package"
   ]
  },
  {
   "cell_type": "code",
   "execution_count": 99,
   "id": "991ed329-37d9-4537-b7e9-f52338335bca",
   "metadata": {},
   "outputs": [],
   "source": [
    "from scipy import stats"
   ]
  },
  {
   "cell_type": "markdown",
   "id": "c707bf83-9274-45fe-a89e-e8948a2e6a4e",
   "metadata": {},
   "source": [
    "Now, We want to test whether the mean resting blood pressure (trestbps) in the dataset is significantly different from a hypothetical population mean. Let's assume the population mean for normal resting blood pressure is 120 mm Hg."
   ]
  },
  {
   "cell_type": "markdown",
   "id": "92cd15ed-a648-4cad-ae7a-0d2234d21221",
   "metadata": {},
   "source": [
    "##### Hypothesis:\n",
    "Null Hypothesis (𝐻0): The mean resting blood pressure (trestbps) of the patients is equal to 120 mm Hg.\n",
    "\n",
    "Alternative Hypothesis (𝐻1): The mean resting blood pressure is not equal to 120 mm Hg."
   ]
  },
  {
   "cell_type": "code",
   "execution_count": 100,
   "id": "6e0ae368-7aa6-4cef-aa99-955377df2e04",
   "metadata": {},
   "outputs": [],
   "source": [
    "# Extract the 'trestbps' (resting blood pressure) column from the dataset\n",
    "trestbps_values=data['trestbps']"
   ]
  },
  {
   "cell_type": "code",
   "execution_count": 101,
   "id": "9fa3853f-0b39-4230-995f-f7edd62d9de5",
   "metadata": {},
   "outputs": [],
   "source": [
    "# Hypothetical population mean for resting blood pressure (normal is around 120 mm Hg)\n",
    "population_mean=120.0"
   ]
  },
  {
   "cell_type": "code",
   "execution_count": 102,
   "id": "2fc9968e-b770-4f2f-8db0-6738f486799d",
   "metadata": {},
   "outputs": [],
   "source": [
    "# Perform one-sample t-test\n",
    "t_stat,p_value=stats.ttest_1samp(trestbps_values,population_mean)"
   ]
  },
  {
   "cell_type": "code",
   "execution_count": 103,
   "id": "35e80b34-d1b5-4bf3-994c-3bbf46ac5534",
   "metadata": {},
   "outputs": [
    {
     "name": "stdout",
     "output_type": "stream",
     "text": [
      "T-Stastics: 21.22292673122529\n",
      "P-Value: 3.925192364196875e-83\n"
     ]
    }
   ],
   "source": [
    "print(f'T-Stastics: {t_stat}')\n",
    "print(f'P-Value: {p_value}')"
   ]
  },
  {
   "cell_type": "code",
   "execution_count": 104,
   "id": "3902ec7a-3cfa-4d74-be87-4f4cb9f1158e",
   "metadata": {},
   "outputs": [
    {
     "name": "stdout",
     "output_type": "stream",
     "text": [
      "Reject Null Hypothesis(𝐻0): The mean resting blood pressure (trestbps) of the patients is equal to 120 mm Hg.\n"
     ]
    }
   ],
   "source": [
    "# let us take 95% confidence interval for the trestbps\n",
    "alpha=0.05\n",
    "if p_value<alpha:\n",
    "    print('Reject Null Hypothesis(𝐻0): The mean resting blood pressure (trestbps) of the patients is equal to 120 mm Hg.')\n",
    "else:\n",
    "    print('Fail to reject Null Hypothesis(𝐻0): The mean resting blood pressure (trestbps) of the patients is equal to 120 mm Hg.')\n",
    "    "
   ]
  },
  {
   "cell_type": "markdown",
   "id": "95b148c3-17c1-4f4f-bcb5-9702195526f3",
   "metadata": {},
   "source": [
    "**4. Confidence Interval:**"
   ]
  },
  {
   "cell_type": "markdown",
   "id": "04dbc295-8a59-4317-9f6e-b4bdc675d56d",
   "metadata": {},
   "source": [
    "A confidence interval is a range of values, derived from the sample data, that is likely to contain the true population parameter. Confidence intervals provide an estimate of the uncertainty associated with a sample statistic, allowing researchers to gauge the precision of their estimates."
   ]
  },
  {
   "cell_type": "markdown",
   "id": "94433a5a-9e2a-4707-beb4-0f50bb6014ee",
   "metadata": {},
   "source": [
    "Required libraies are pandas and scipy"
   ]
  },
  {
   "cell_type": "raw",
   "id": "379dab48-6795-4f05-bb81-1e04354b2872",
   "metadata": {},
   "source": [
    "Sample Mean: The average trestbps value from the dataset."
   ]
  },
  {
   "cell_type": "code",
   "execution_count": 105,
   "id": "26f9d7ff-7b7f-4afe-b085-dc9755da24d7",
   "metadata": {},
   "outputs": [],
   "source": [
    "sample_mean=data['trestbps'].mean()"
   ]
  },
  {
   "cell_type": "raw",
   "id": "a5d62f19-69ea-4a23-88bc-5f1d7d5e554a",
   "metadata": {},
   "source": [
    "Standard Error: Measures the standard deviation of the sample mean estimate. \n",
    "It’s calculated as the sample standard deviation divided by the square root of the sample size."
   ]
  },
  {
   "cell_type": "code",
   "execution_count": 106,
   "id": "98a36976-bb71-429e-b355-251b4eb23d35",
   "metadata": {},
   "outputs": [],
   "source": [
    "standard_error=stats.sem(trestbps_values)"
   ]
  },
  {
   "cell_type": "raw",
   "id": "eb075092-fe0e-49b8-8c20-1e603d2bd851",
   "metadata": {},
   "source": [
    "The stats.norm.interval function returns the interval within which the true population mean is expected to lie with 95% confidence."
   ]
  },
  {
   "cell_type": "code",
   "execution_count": 107,
   "id": "c5cbc9e2-3d04-41a0-811e-6c17d3147cd9",
   "metadata": {},
   "outputs": [],
   "source": [
    "confidence_interval=stats.norm.interval(0.95,loc=sample_mean,scale=standard_error)"
   ]
  },
  {
   "cell_type": "code",
   "execution_count": 108,
   "id": "182375c1-0576-4fd0-ba08-1ab5c80f3334",
   "metadata": {},
   "outputs": [
    {
     "name": "stdout",
     "output_type": "stream",
     "text": [
      "95% Condfidence Interval for mean Resting Blood Pressure(trestbps): (130.5393515374625, 132.68406309668387)\n"
     ]
    }
   ],
   "source": [
    "print(f'95% Condfidence Interval for mean Resting Blood Pressure(trestbps): {confidence_interval}')"
   ]
  },
  {
   "cell_type": "markdown",
   "id": "d084924d-1d25-4a7d-94a9-de35d003b26a",
   "metadata": {},
   "source": [
    "**5. Regression Analysis:**"
   ]
  },
  {
   "cell_type": "markdown",
   "id": "bfbfb393-65d8-4271-b7b3-8c6e1d24317d",
   "metadata": {},
   "source": [
    "Linear Regression: Models the relationship between a dependent variable and one or more independent variables by fitting a linear equation.\n",
    "    \n",
    "Logistic Regression: Used when the dependent variable is binary (e.g., yes/no)."
   ]
  },
  {
   "cell_type": "markdown",
   "id": "a3117865-0640-4b45-a24e-184ad6ab8f1c",
   "metadata": {},
   "source": [
    "let us do Linear Regression Analysis for our data set"
   ]
  },
  {
   "cell_type": "markdown",
   "id": "a769b137-58ea-4082-b026-882f4c9e2cb0",
   "metadata": {},
   "source": [
    "let us use cp (chest pain type) as a predictor in a linear regression model with the heart disease dataset, you'll follow a similar approach to the one previously outlined. However, note that cp is typically a categorical variable (often encoded as integers representing different types of chest pain)."
   ]
  },
  {
   "cell_type": "markdown",
   "id": "39bfcde8-5bec-4231-b871-28ea97ac4b5c",
   "metadata": {},
   "source": [
    "Used Library:\n",
    "The statsmodels library in Python provides tools for statistical modeling and hypothesis testing. To use statsmodels, you typically import it using import statsmodels.api as sm. This library includes functions for linear regression, logistic regression, and various other statistical tests."
   ]
  },
  {
   "cell_type": "code",
   "execution_count": 109,
   "id": "2f8b33b7-5de6-4535-8a40-1d3dcf7b7d3e",
   "metadata": {},
   "outputs": [],
   "source": [
    "import statsmodels.api as sm"
   ]
  },
  {
   "cell_type": "code",
   "execution_count": 110,
   "id": "425e4e9d-4c93-446f-b40f-19f2375c914d",
   "metadata": {},
   "outputs": [
    {
     "name": "stdout",
     "output_type": "stream",
     "text": [
      "[0 1 2 3]\n"
     ]
    }
   ],
   "source": [
    "# Check the unique values in 'cp' to understand how it's encoded\n",
    "print(data['cp'].unique())"
   ]
  },
  {
   "cell_type": "code",
   "execution_count": 111,
   "id": "ff4e7337-7e3f-4263-852c-155e7d728a19",
   "metadata": {},
   "outputs": [],
   "source": [
    "# Define independent variable (add constant for intercept)\n",
    "x=sm.add_constant(data['cp'])"
   ]
  },
  {
   "cell_type": "code",
   "execution_count": 112,
   "id": "3bf8ea39-c847-40e8-a445-862388aa1c7f",
   "metadata": {},
   "outputs": [],
   "source": [
    "# Define dependent variable\n",
    "y=data['target']"
   ]
  },
  {
   "cell_type": "code",
   "execution_count": 113,
   "id": "7bdf6953-8198-4a33-91d7-21d00a6b6997",
   "metadata": {},
   "outputs": [],
   "source": [
    "# Fit linear regression model\n",
    "model=sm.OLS(y,x).fit()"
   ]
  },
  {
   "cell_type": "code",
   "execution_count": 114,
   "id": "5d521ada-a11a-4a4c-bc38-f740b6e0fb03",
   "metadata": {},
   "outputs": [
    {
     "name": "stdout",
     "output_type": "stream",
     "text": [
      "<statsmodels.regression.linear_model.RegressionResultsWrapper object at 0x0000025959B44A90>\n"
     ]
    }
   ],
   "source": [
    "print(model)"
   ]
  },
  {
   "cell_type": "code",
   "execution_count": 115,
   "id": "2df7d474-d93c-4518-b73b-aa4203319ea4",
   "metadata": {},
   "outputs": [
    {
     "name": "stdout",
     "output_type": "stream",
     "text": [
      "                            OLS Regression Results                            \n",
      "==============================================================================\n",
      "Dep. Variable:                 target   R-squared:                       0.189\n",
      "Model:                            OLS   Adj. R-squared:                  0.188\n",
      "Method:                 Least Squares   F-statistic:                     238.6\n",
      "Date:                Sun, 08 Sep 2024   Prob (F-statistic):           1.56e-48\n",
      "Time:                        16:35:54   Log-Likelihood:                -636.16\n",
      "No. Observations:                1025   AIC:                             1276.\n",
      "Df Residuals:                    1023   BIC:                             1286.\n",
      "Df Model:                           1                                         \n",
      "Covariance Type:            nonrobust                                         \n",
      "==============================================================================\n",
      "                 coef    std err          t      P>|t|      [0.025      0.975]\n",
      "------------------------------------------------------------------------------\n",
      "const          0.3141      0.019     16.463      0.000       0.277       0.352\n",
      "cp             0.2112      0.014     15.445      0.000       0.184       0.238\n",
      "==============================================================================\n",
      "Omnibus:                      323.801   Durbin-Watson:                   1.934\n",
      "Prob(Omnibus):                  0.000   Jarque-Bera (JB):               49.943\n",
      "Skew:                          -0.073   Prob(JB):                     1.43e-11\n",
      "Kurtosis:                       1.928   Cond. No.                         2.46\n",
      "==============================================================================\n",
      "\n",
      "Notes:\n",
      "[1] Standard Errors assume that the covariance matrix of the errors is correctly specified.\n"
     ]
    }
   ],
   "source": [
    "print(model.summary())"
   ]
  },
  {
   "cell_type": "markdown",
   "id": "d1852397-1a0b-4baf-8d8d-aeacbe28bb96",
   "metadata": {},
   "source": [
    "This analysis helps understand how different types of chest pain (as encoded by cp) influence the likelihood of heart disease. If cp is a categorical variable with multiple values, consider using dummy coding (one-hot encoding) for more detailed analysis."
   ]
  },
  {
   "cell_type": "markdown",
   "id": "120a6618-86c5-4540-b738-875ad46f6474",
   "metadata": {},
   "source": [
    "##### Visualization: Scatter Plot with Regression Line"
   ]
  },
  {
   "cell_type": "markdown",
   "id": "d7155474-6f35-4fa3-9c58-1762b3472684",
   "metadata": {},
   "source": [
    "Creating visualizations can help illustrate the relationships between variables and the regression line effectively. let do it using Python libraries like Matplotlib and Seaborn"
   ]
  },
  {
   "cell_type": "code",
   "execution_count": 116,
   "id": "a8b7cc04-fe8f-4438-b94b-aba1777e43a2",
   "metadata": {},
   "outputs": [],
   "source": [
    "import matplotlib.pyplot as plt"
   ]
  },
  {
   "cell_type": "code",
   "execution_count": 117,
   "id": "3e149d6b-9898-428b-bfa0-05cb259a62b3",
   "metadata": {},
   "outputs": [],
   "source": [
    "import seaborn as sns"
   ]
  },
  {
   "cell_type": "code",
   "execution_count": 118,
   "id": "88b6829c-d8a8-46c3-886a-866cb4961478",
   "metadata": {},
   "outputs": [
    {
     "data": {
      "text/plain": [
       "<Figure size 1000x600 with 0 Axes>"
      ]
     },
     "execution_count": 118,
     "metadata": {},
     "output_type": "execute_result"
    },
    {
     "data": {
      "text/plain": [
       "<Figure size 1000x600 with 0 Axes>"
      ]
     },
     "metadata": {},
     "output_type": "display_data"
    }
   ],
   "source": [
    "#setting figure size\n",
    "plt.figure(figsize=(10,6))"
   ]
  },
  {
   "cell_type": "code",
   "execution_count": 119,
   "id": "09e537b4-900c-4f58-8a33-8646c477a92b",
   "metadata": {},
   "outputs": [
    {
     "data": {
      "image/png": "[encoded data removed]",
      "text/plain": [
       "<Figure size 640x480 with 1 Axes>"
      ]
     },
     "metadata": {},
     "output_type": "display_data"
    }
   ],
   "source": [
    "sns.regplot(x='cp', y='target', data=data)\n",
    "plt.title('Scatter Plot with Regression Line for CP vs. Target')\n",
    "plt.xlabel('CP')\n",
    "plt.ylabel('Target')\n",
    "plt.show()"
   ]
  }
 ],
 "metadata": {
  "kernelspec": {
   "display_name": "Python 3 (ipykernel)",
   "language": "python",
   "name": "python3"
  },
  "language_info": {
   "codemirror_mode": {
    "name": "ipython",
    "version": 3
   },
   "file_extension": ".py",
   "mimetype": "text/x-python",
   "name": "python",
   "nbconvert_exporter": "python",
   "pygments_lexer": "ipython3",
   "version": "3.11.7"
  }
 },
 "nbformat": 4,
 "nbformat_minor": 5
}
